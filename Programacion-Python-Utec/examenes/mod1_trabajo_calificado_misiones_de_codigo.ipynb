{
  "nbformat": 4,
  "nbformat_minor": 0,
  "metadata": {
    "colab": {
      "provenance": [],
      "include_colab_link": true
    },
    "kernelspec": {
      "name": "python3",
      "display_name": "Python 3"
    },
    "language_info": {
      "name": "python"
    }
  },
  "cells": [
    {
      "cell_type": "markdown",
      "metadata": {
        "id": "view-in-github",
        "colab_type": "text"
      },
      "source": [
        "<a href=\"https://colab.research.google.com/github/RodrigoMathias07/primer_simulador/blob/main/Programacion-Python-Utec/examenes/mod1_trabajo_calificado_misiones_de_codigo.ipynb\" target=\"_parent\"><img src=\"https://colab.research.google.com/assets/colab-badge.svg\" alt=\"Open In Colab\"/></a>"
      ]
    },
    {
      "cell_type": "markdown",
      "source": [
        "<img src=\"https://posgrado.utec.edu.pe/sites/default/files/2023-08/Testimonial-home-2.jpg\" alt=\"HTML5 Icon\" width=\"900\" height=\"250\" >\n"
      ],
      "metadata": {
        "id": "dYz-CyepUcRS"
      }
    },
    {
      "cell_type": "markdown",
      "source": [
        "# **Trabajo Calificado: Misiones de Código**"
      ],
      "metadata": {
        "id": "tYd6BiWgUfLo"
      }
    },
    {
      "cell_type": "markdown",
      "source": [
        "**Contexto:**\n",
        "\n",
        "Eres desarrollador de un Simulador de Aventuras llamado Pythonia, un entorno virtual de entrenamiento diseñado para mejorar tus habilidades de programación. En este simulador, enfrentarás una serie de desafíos basados en situaciones de videojuegos y escenarios de aventura, donde deberás aplicar estructuras lógicas, condicionales, bucles y funciones para resolver problemas.\n",
        "\n"
      ],
      "metadata": {
        "id": "GtjjVTFRU6W1"
      }
    },
    {
      "cell_type": "markdown",
      "source": [
        "Cada ejercicio representa un reto independiente que simula eventos comunes en el desarrollo de videojuegos, sistemas de simulación y lógica de juegos interactivos."
      ],
      "metadata": {
        "id": "Ggayz2SXVXjt"
      }
    },
    {
      "cell_type": "markdown",
      "source": [
        "**Recomendaciones:**\n",
        "\n",
        "Utilizar buenas prácticas: comentarios, entradas y salidas limpias.\n",
        "\n",
        "Uso de funciones donde sea necesario."
      ],
      "metadata": {
        "id": "eAL1_dscUjd_"
      }
    },
    {
      "cell_type": "markdown",
      "source": [
        "**Ejercicio 1: Elige tu personaje (Variables y Entrada/Salida)**\n",
        "\n",
        "Crea un programa que permita al jugador elegir su personaje entre Mago, Guerrero o Arquero. Según la elección, muestra un mensaje personalizado con las estadísticas iniciales (vida, poder, defensa)."
      ],
      "metadata": {
        "id": "YpxJc_PoVc4c"
      }
    },
    {
      "cell_type": "code",
      "source": [
        "## INICIO DE CÓDIGO\n",
        "# elegir personaje y mostrar sus stats\n",
        "print(\"elige tu personaje: mago, guerrero o arquero\")\n",
        "personaje = input(\"tu eleccion: \")\n",
        "## FIN DE CÓDIGO\n",
        "if personaje == \"mago\":\n",
        "    print(\"elegiste mago. vida: 70, poder: 90, defensa: 40\")\n",
        "elif personaje == \"guerrero\":\n",
        "    print(\"elegiste Guerrero. Vida: 100, Poder: 60, defensa: 70\")\n",
        "elif personaje == \"arquero\":\n",
        "    print(\"elegiste arquero. vida 80, poder 75, defensa 50\")\n",
        "else:\n",
        "    print(\"no entendi ese personaje :(\")\n"
      ],
      "metadata": {
        "id": "GZrzl-7wVfkW",
        "outputId": "c4396a56-c721-4dd8-c6fd-36da5fb9bd38",
        "colab": {
          "base_uri": "https://localhost:8080/"
        }
      },
      "execution_count": 1,
      "outputs": [
        {
          "output_type": "stream",
          "name": "stdout",
          "text": [
            "elige tu personaje: mago, guerrero o arquero\n",
            "tu eleccion: mago\n",
            "elegiste mago. vida: 70, poder: 90, defensa: 40\n"
          ]
        }
      ]
    },
    {
      "cell_type": "markdown",
      "source": [
        "**Ejercicio 2: La prueba del sabio (Condicionales)**\n",
        "\n",
        "El sabio te hace una pregunta: si traes menos de 50 monedas de oro, te expulsará; si llevas entre 50 y 100, te permitirá pasar; si llevas más de 100, te dará una poción.\n",
        "Crea el programa que lea las monedas y muestre el resultado."
      ],
      "metadata": {
        "id": "kvoGwX-QVgPr"
      }
    },
    {
      "cell_type": "code",
      "execution_count": 3,
      "metadata": {
        "id": "3tg6KSK-UbUw",
        "outputId": "0a60630f-926a-435c-a829-6329f8f54d32",
        "colab": {
          "base_uri": "https://localhost:8080/"
        }
      },
      "outputs": [
        {
          "output_type": "stream",
          "name": "stdout",
          "text": [
            "cuantas monedas de oro tienes? 120\n",
            "toma esta pocion, te la ganaste\n"
          ]
        }
      ],
      "source": [
        "## INICIO DE CÓDIGO\n",
        "# el sabio pregunta cuantas monedas llevas\n",
        "monedas = int(input(\"cuantas monedas de oro tienes? \"))\n",
        "## FIN DE CÓDIGO\n",
        "if monedas < 50:\n",
        "    print(\"largo de aqui\")\n",
        "elif monedas <= 100:\n",
        "    print(\"bueno, puedes pasar\")\n",
        "else:\n",
        "    print(\"toma esta pocion, te la ganaste\")"
      ]
    },
    {
      "cell_type": "markdown",
      "source": [
        "**Ejercicio 3: El puente infinito (Bucles While)**\n",
        "\n",
        "Diseña un programa que simule el cruce de un puente que cambia su estructura aleatoriamente. El jugador debe adivinar si el siguiente paso será seguro ('s') o peligroso ('p').\n",
        "El juego termina si el jugador elige 'salir' o si falla 3 veces."
      ],
      "metadata": {
        "id": "g7B02fWhVj4M"
      }
    },
    {
      "cell_type": "code",
      "source": [
        "## INICIO DE CÓDIGO\n",
        "# adivinar si el paso es seguro\n",
        "import random\n",
        "fallos = 0\n",
        "## FIN DE CÓDIGO\n",
        "while True:\n",
        "    if fallos == 3:\n",
        "        print(\"ups fallaste 3 veces, perdiste :(\")\n",
        "        break\n",
        "\n",
        "    eleccion = input(\"escribe s = seguro, p = peligroso, o salir: \")\n",
        "\n",
        "    if eleccion == \"salir\":\n",
        "        print(\"te fuiste del puente...\")\n",
        "        break\n",
        "\n",
        "    paso = random.choice([\"s\", \"p\"])\n",
        "\n",
        "    if eleccion == paso:\n",
        "        print(\"bien hecho! sigues adelante\")\n",
        "    else:\n",
        "        fallos += 1\n",
        "        print(\"mal paso! fallos:\", fallos)"
      ],
      "metadata": {
        "id": "9DRMWhDBVn71",
        "outputId": "2ff821e2-4526-45cf-c32f-e5cd3fd83614",
        "colab": {
          "base_uri": "https://localhost:8080/"
        }
      },
      "execution_count": 4,
      "outputs": [
        {
          "output_type": "stream",
          "name": "stdout",
          "text": [
            "escribe s = seguro, p = peligroso, o salir: salir\n",
            "te fuiste del puente...\n"
          ]
        }
      ]
    },
    {
      "cell_type": "markdown",
      "source": [
        "**Ejercicio 4: El laberinto secreto (Bucle For y Range)**\n",
        "\n",
        "Crea un programa que muestre una cuenta regresiva desde 10 hasta 1 al estilo nivel de escape del laberinto. Cada número debe ir acompañado de un mensaje tipo \"Quedan X segundos para escapar\"."
      ],
      "metadata": {
        "id": "66qKXQwTVoZG"
      }
    },
    {
      "cell_type": "code",
      "source": [
        "## INICIO DE CÓDIGO\n",
        "# cuenta atras para escapar\n",
        "for i in range(10, 0, -1):\n",
        "    print(\"quedan\", i, \"segundos pa escapar!!\")\n",
        "## FIN DE CÓDIGO"
      ],
      "metadata": {
        "id": "i1S9WPmhVsEj",
        "outputId": "c002b31a-7d17-4fbc-8223-6a6e958a38f8",
        "colab": {
          "base_uri": "https://localhost:8080/"
        }
      },
      "execution_count": 6,
      "outputs": [
        {
          "output_type": "stream",
          "name": "stdout",
          "text": [
            "quedan 10 segundos pa escapar!!\n",
            "quedan 9 segundos pa escapar!!\n",
            "quedan 8 segundos pa escapar!!\n",
            "quedan 7 segundos pa escapar!!\n",
            "quedan 6 segundos pa escapar!!\n",
            "quedan 5 segundos pa escapar!!\n",
            "quedan 4 segundos pa escapar!!\n",
            "quedan 3 segundos pa escapar!!\n",
            "quedan 2 segundos pa escapar!!\n",
            "quedan 1 segundos pa escapar!!\n"
          ]
        }
      ]
    },
    {
      "cell_type": "markdown",
      "source": [
        "**Ejercicio 5: Cofres encantados (Break y Continue)**\n",
        "\n",
        "Simula 10 cofres cerrados, pero uno de ellos es una trampa explosiva (elige aleatoriamente una posición).\n",
        "El jugador abre cofres uno por uno:\n",
        "\n",
        "* Si encuentra la trampa, termina el juego (break).\n",
        "\n",
        "* Si encuentra cofres vacíos, continúa (continue).\n",
        "\n",
        "* Si abre todos sin explotar, gana."
      ],
      "metadata": {
        "id": "5dL6C-x1VsYf"
      }
    },
    {
      "cell_type": "code",
      "source": [
        "## INICIO DE CÓDIGO\n",
        "# uno de los cofres tiene bomba\n",
        "import random\n",
        "trampa = random.randint(1, 10)\n",
        "## FIN DE CÓDIGO\n",
        "for i in range(1, 11):\n",
        "    print(\"abriendo cofre\", i)\n",
        "    if i == trampa:\n",
        "        print(\"BOOM!! 😵\")\n",
        "        break\n",
        "    else:\n",
        "        print(\"cofre vacio... nada aqui\")\n",
        "else:\n",
        "    print(\"ganaste! ningun cofre explotó\")"
      ],
      "metadata": {
        "id": "d0hcbl0_V2BI",
        "outputId": "672f6465-544a-4da7-80bb-e22f4153a64b",
        "colab": {
          "base_uri": "https://localhost:8080/"
        }
      },
      "execution_count": 8,
      "outputs": [
        {
          "output_type": "stream",
          "name": "stdout",
          "text": [
            "abriendo cofre 1\n",
            "cofre vacio... nada aqui\n",
            "abriendo cofre 2\n",
            "cofre vacio... nada aqui\n",
            "abriendo cofre 3\n",
            "cofre vacio... nada aqui\n",
            "abriendo cofre 4\n",
            "cofre vacio... nada aqui\n",
            "abriendo cofre 5\n",
            "cofre vacio... nada aqui\n",
            "abriendo cofre 6\n",
            "BOOM!! 😵\n"
          ]
        }
      ]
    },
    {
      "cell_type": "markdown",
      "source": [
        "**Ejercicio 6: Pociones mágicas (Funciones básicas)**\n",
        "\n",
        "Crea una función usar_pocion(tipo) que permita al jugador elegir entre 'vida', 'fuerza' o 'velocidad', y retorne el efecto de la poción.\n",
        "Luego, pide al usuario que elija una poción y muestra el resultado llamando a la función."
      ],
      "metadata": {
        "id": "94yOz-rKV2gp"
      }
    },
    {
      "cell_type": "code",
      "source": [
        "## INICIO DE CÓDIGO\n",
        "def usar_pocion(tipo):\n",
        "    if tipo == \"vida\":\n",
        "        return \"recuperas un pokito de vida\"\n",
        "    elif tipo == \"fuerza\":\n",
        "        return \"te pones mas fuerte 💪\"\n",
        "    elif tipo == \"velocidad\":\n",
        "        return \"te mueves rapidisimo 🏃\"\n",
        "    else:\n",
        "        return \"esa pocion no existe men\"\n",
        "pocion = input(\"elige: vida, fuerza o velocidad: \")\n",
        "print(usar_pocion(pocion))\n",
        "## FIN DE CÓDIGO"
      ],
      "metadata": {
        "id": "NQKm0w5iV4Zz",
        "outputId": "0526e687-b361-4cca-b50e-d87a22138710",
        "colab": {
          "base_uri": "https://localhost:8080/"
        }
      },
      "execution_count": 9,
      "outputs": [
        {
          "output_type": "stream",
          "name": "stdout",
          "text": [
            "elige: vida, fuerza o velocidad: velocidad\n",
            "te mueves rapidisimo 🏃\n"
          ]
        }
      ]
    },
    {
      "cell_type": "markdown",
      "source": [
        "**Ejercicio 7: Calculadora de daño crítico (Funciones con parámetros)**\n",
        "\n",
        "Crea una función calcular_danio(base, critico) que reciba el daño base y un porcentaje de crítico, devolviendo el daño total.\n",
        "El usuario ingresará el daño base y el porcentaje crítico."
      ],
      "metadata": {
        "id": "Qdnbnm4nV44h"
      }
    },
    {
      "cell_type": "code",
      "source": [
        "## INICIO DE CÓDIGO\n",
        "def calcular_danio(base, critico):\n",
        "    return base + (base * critico / 100)\n",
        "\n",
        "base = float(input(\"cuanto es el daño base? \"))\n",
        "critico = float(input(\"cuanto porciento de critico? \"))\n",
        "danio = calcular_danio(base, critico)\n",
        "print(\"el daño total es:\", danio)\n",
        "## FIN DE CÓDIGO"
      ],
      "metadata": {
        "id": "leaLQJWrV8Tx",
        "outputId": "75744ec4-573c-43ae-8b2c-0da96e75a132",
        "colab": {
          "base_uri": "https://localhost:8080/"
        }
      },
      "execution_count": 10,
      "outputs": [
        {
          "output_type": "stream",
          "name": "stdout",
          "text": [
            "cuanto es el daño base? 115\n",
            "cuanto porciento de critico? 20\n",
            "el daño total es: 138.0\n"
          ]
        }
      ]
    },
    {
      "cell_type": "markdown",
      "source": [
        "**Ejercicio 8: El desafío del dragón (Condicionales + funciones + bucles)**\n",
        "\n",
        "Diseña una función enfrentar_dragon(vida, fuerza) que simule el combate:\n",
        "\n",
        "* El jugador ataca al dragón y el dragón contraataca restando vida.\n",
        "\n",
        "* Si la vida llega a 0, el jugador pierde.\n",
        "\n",
        "* Si el jugador realiza 3 ataques consecutivos sin morir, gana.\n",
        "Usa un bucle while interno para el combate."
      ],
      "metadata": {
        "id": "d4j1ckE2V9ag"
      }
    },
    {
      "cell_type": "code",
      "source": [
        "## INICIO DE CÓDIGO\n",
        "def enfrentar_dragon(vida, fuerza):\n",
        "    golpes = 0\n",
        "    while vida > 0 and golpes < 3:\n",
        "        print(\"atacas con fuerza de\", fuerza)\n",
        "        print(\"el dragon te da un golpe fuerte\")\n",
        "        vida -= 30\n",
        "        golpes += 1\n",
        "        print(\"te queda\", vida, \"de vida\")\n",
        "    if vida <= 0:\n",
        "        print(\"te moriste luchando contra el dragon\")\n",
        "    else:\n",
        "        print(\"ganaste! el dragon fue derrotado\")\n",
        "enfrentar_dragon(100, 40)\n",
        "## FIN DE CÓDIGO"
      ],
      "metadata": {
        "id": "_CGyWwuaWByi",
        "outputId": "28f8d001-0f7a-4575-9463-ba292961158c",
        "colab": {
          "base_uri": "https://localhost:8080/"
        }
      },
      "execution_count": 11,
      "outputs": [
        {
          "output_type": "stream",
          "name": "stdout",
          "text": [
            "atacas con fuerza de 40\n",
            "el dragon te da un golpe fuerte\n",
            "te queda 70 de vida\n",
            "atacas con fuerza de 40\n",
            "el dragon te da un golpe fuerte\n",
            "te queda 40 de vida\n",
            "atacas con fuerza de 40\n",
            "el dragon te da un golpe fuerte\n",
            "te queda 10 de vida\n",
            "ganaste! el dragon fue derrotado\n"
          ]
        }
      ]
    },
    {
      "cell_type": "markdown",
      "source": [
        "**Ejercicio 9: El camino del héroe (Recursividad sencilla)**\n",
        "\n",
        "Crea una función recursiva que simule el camino de un héroe cruzando N obstáculos, mostrando mensajes como:\n",
        "\n",
        "\"Obstáculo 3: saltando...\"\n",
        "\n",
        "Termina cuando N llegue a 0."
      ],
      "metadata": {
        "id": "8X5Y08fQWCFU"
      }
    },
    {
      "cell_type": "code",
      "source": [
        "## INICIO DE CÓDIGO\n",
        "def cruzar_obstaculos(n):\n",
        "    if n == 0:\n",
        "        print(\"ya cruzaste todo! eres un heroe :)\")\n",
        "    else:\n",
        "        print(\"obstaculo\", n, \": saltando...\")\n",
        "        cruzar_obstaculos(n - 1)\n",
        "num = int(input(\"cuantos obstaculos hay? \"))\n",
        "cruzar_obstaculos(num)\n",
        "## FIN DE CÓDIGO"
      ],
      "metadata": {
        "id": "vVDjZHSVWJdQ",
        "outputId": "45d00a3b-9d54-42b4-be91-92eb35500634",
        "colab": {
          "base_uri": "https://localhost:8080/"
        }
      },
      "execution_count": 12,
      "outputs": [
        {
          "output_type": "stream",
          "name": "stdout",
          "text": [
            "cuantos obstaculos hay? 7\n",
            "obstaculo 7 : saltando...\n",
            "obstaculo 6 : saltando...\n",
            "obstaculo 5 : saltando...\n",
            "obstaculo 4 : saltando...\n",
            "obstaculo 3 : saltando...\n",
            "obstaculo 2 : saltando...\n",
            "obstaculo 1 : saltando...\n",
            "ya cruzaste todo! eres un heroe :)\n"
          ]
        }
      ]
    },
    {
      "cell_type": "markdown",
      "source": [
        "**Ejercicio 10: Torre de los hechizos (Reto Integrador Final)**\n",
        "\n",
        "Crea un programa completo que combine:\n",
        "\n",
        "* Elección de personaje.\n",
        "\n",
        "* Simulación de un combate contra un enemigo con vida y defensa.\n",
        "\n",
        "* Uso de funciones para calcular el daño.\n",
        "\n",
        "* Bucles para turnos de combate.\n",
        "\n",
        "* Uso de una función recursiva que simule las rondas como niveles (nivel 1, 2, 3 hasta ganar).\n",
        "\n"
      ],
      "metadata": {
        "id": "Behbpl_8WJzR"
      }
    },
    {
      "cell_type": "code",
      "source": [
        "## INICIO DE CÓDIGO\n",
        "def elegir_personaje():\n",
        "    print(\"elige: mago, guerrero o arquero\")\n",
        "    p = input(\"quien seras? \")\n",
        "    if p == \"mago\":\n",
        "        return 80, 90\n",
        "    elif p == \"guerrero\":\n",
        "        return 100, 70\n",
        "    elif p == \"arquero\":\n",
        "        return 90, 80\n",
        "    else:\n",
        "        return 100, 60\n",
        "def calcular_danio(f):\n",
        "    return f - 10\n",
        "def ronda(nivel, vida, fuerza):\n",
        "    if nivel > 3:\n",
        "        print(\"GANASTE TODOS LOS NIVELES 😎\")\n",
        "        return\n",
        "    print(\"nivel\", nivel, \": comienza el combate!\")\n",
        "    enemigo_vida = 50\n",
        "    while enemigo_vida > 0 and vida > 0:\n",
        "        print(\"atacas...\")\n",
        "        enemigo_vida -= calcular_danio(fuerza)\n",
        "        print(\"enemigo le queeda\", enemigo_vida)\n",
        "        print(\"enemigo contraataca! pierdes 20 vida\")\n",
        "        vida -= 20\n",
        "        print(\"te queda\", vida)\n",
        "    if vida <= 0:\n",
        "        print(\"te vencieron en el nivel\", nivel)\n",
        "    else:\n",
        "        print(\"ganaste el nivel\", nivel)\n",
        "        ronda(nivel + 1, vida, fuerza)\n",
        "vida, fuerza = elegir_personaje()\n",
        "ronda(1, vida, fuerza)\n",
        "## FIN DE CÓDIGO"
      ],
      "metadata": {
        "id": "smtLq1SDWTJd",
        "outputId": "330162db-d315-432b-e92f-2a7df231af4b",
        "colab": {
          "base_uri": "https://localhost:8080/"
        }
      },
      "execution_count": 14,
      "outputs": [
        {
          "output_type": "stream",
          "name": "stdout",
          "text": [
            "elige: mago, guerrero o arquero\n",
            "quien seras? mago\n",
            "nivel 1 : comienza el combate!\n",
            "atacas...\n",
            "enemigo le queeda -30\n",
            "enemigo contraataca! pierdes 20 vida\n",
            "te queda 60\n",
            "ganaste el nivel 1\n",
            "nivel 2 : comienza el combate!\n",
            "atacas...\n",
            "enemigo le queeda -30\n",
            "enemigo contraataca! pierdes 20 vida\n",
            "te queda 40\n",
            "ganaste el nivel 2\n",
            "nivel 3 : comienza el combate!\n",
            "atacas...\n",
            "enemigo le queeda -30\n",
            "enemigo contraataca! pierdes 20 vida\n",
            "te queda 20\n",
            "ganaste el nivel 3\n",
            "GANASTE TODOS LOS NIVELES 😎\n"
          ]
        }
      ]
    },
    {
      "cell_type": "markdown",
      "source": [
        "---\n",
        "\n",
        "# Gracias por completar este laboratorio!\n",
        "\n",
        "---\n"
      ],
      "metadata": {
        "id": "EONqoa25Wlx3"
      }
    }
  ]
}